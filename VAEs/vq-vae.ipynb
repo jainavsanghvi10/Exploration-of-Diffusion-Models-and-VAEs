{
 "cells": [
  {
   "cell_type": "markdown",
   "id": "096ef117",
   "metadata": {
    "papermill": {
     "duration": 0.00881,
     "end_time": "2023-12-17T15:39:30.074092",
     "exception": false,
     "start_time": "2023-12-17T15:39:30.065282",
     "status": "completed"
    },
    "tags": []
   },
   "source": [
    "# Vector-Quantized Variational Autoencoders\n",
    "\n",
    "**Description**: Training a VQ-VAE for image reconstruction and sampling the codebook for image generation."
   ]
  },
  {
   "cell_type": "markdown",
   "id": "e147478b",
   "metadata": {
    "id": "fr3swfLQwMHf",
    "papermill": {
     "duration": 0.007844,
     "end_time": "2023-12-17T15:39:30.090766",
     "exception": false,
     "start_time": "2023-12-17T15:39:30.082922",
     "status": "completed"
    },
    "tags": []
   },
   "source": [
    "In this notebook, we construct a **Vector Quantized Variational Autoencoder** (VQ-VAE). Unlike traditional VAEs, where the latent space is continuous and sampled from a Gaussian distribution, VQ-VAEs adopt a discrete latent space, simplifying the optimization process. This is achieved by managing a discrete set known as a **codebook**. The creation of this codebook involves discretizing the space between continuous embeddings and the encoded outputs. These discrete code words are subsequently input into the decoder, which is trained to produce reconstructed samples.\n"
   ]
  },
  {
   "cell_type": "code",
   "execution_count": 1,
   "id": "11d81188",
   "metadata": {
    "execution": {
     "iopub.execute_input": "2023-12-17T15:39:30.109126Z",
     "iopub.status.busy": "2023-12-17T15:39:30.108405Z",
     "iopub.status.idle": "2023-12-17T15:39:42.624998Z",
     "shell.execute_reply": "2023-12-17T15:39:42.623850Z"
    },
    "id": "07rrg_wOwMHg",
    "papermill": {
     "duration": 12.528498,
     "end_time": "2023-12-17T15:39:42.627526",
     "exception": false,
     "start_time": "2023-12-17T15:39:30.099028",
     "status": "completed"
    },
    "tags": []
   },
   "outputs": [],
   "source": [
    "!pip install -q tensorflow-probability"
   ]
  },
  {
   "cell_type": "markdown",
   "id": "722f9245",
   "metadata": {
    "id": "hlxaOyixwMHi",
    "papermill": {
     "duration": 0.007649,
     "end_time": "2023-12-17T15:39:42.643502",
     "exception": false,
     "start_time": "2023-12-17T15:39:42.635853",
     "status": "completed"
    },
    "tags": []
   },
   "source": [
    "## Imports"
   ]
  },
  {
   "cell_type": "code",
   "execution_count": 2,
   "id": "ebf4e196",
   "metadata": {
    "execution": {
     "iopub.execute_input": "2023-12-17T15:39:42.661257Z",
     "iopub.status.busy": "2023-12-17T15:39:42.660852Z",
     "iopub.status.idle": "2023-12-17T15:39:57.301540Z",
     "shell.execute_reply": "2023-12-17T15:39:57.300561Z"
    },
    "id": "lBnwqjUwwMHi",
    "papermill": {
     "duration": 14.652677,
     "end_time": "2023-12-17T15:39:57.304133",
     "exception": false,
     "start_time": "2023-12-17T15:39:42.651456",
     "status": "completed"
    },
    "tags": []
   },
   "outputs": [],
   "source": [
    "import numpy as np\n",
    "import matplotlib.pyplot as plt\n",
    "\n",
    "from tensorflow import keras\n",
    "from tensorflow.keras import layers\n",
    "import tensorflow_probability as tfp\n",
    "import tensorflow as tf"
   ]
  },
  {
   "cell_type": "markdown",
   "id": "e49efc97",
   "metadata": {
    "id": "dpCVSDPZwMHi",
    "papermill": {
     "duration": 0.007815,
     "end_time": "2023-12-17T15:39:57.320414",
     "exception": false,
     "start_time": "2023-12-17T15:39:57.312599",
     "status": "completed"
    },
    "tags": []
   },
   "source": [
    "## VectorQuantizer layer\n",
    "\n",
    "\n",
    "Initially, we create a custom layer for the vector quantizer, positioned between the encoder and decoder. Consider an encoder output with dimensions `(batch_size, height, width, num_filters)`. The vector quantizer flattens this output while preserving the num_filters dimension, resulting in a shape of `(batch_size * height * width, num_filters)`. This flattening is done to treat the total number of filters as the size for the latent embeddings.\n",
    "\n",
    "To establish a codebook, we initialize an embedding table. The L2-normalized distance is computed between the flattened encoder outputs and the code words in this codebook. The code that minimizes the distance is chosen, and one-hot encoding is applied for quantization. Consequently, the code with the minimum distance to the corresponding encoder output is assigned as one, while the other codes are set to zero.\n",
    "\n",
    "Given that the quantization process lacks differentiability, we introduce a straight-through estimator between the decoder and encoder. This ensures that the decoder gradients directly influence the encoder. Since both the encoder and decoder share the same channel space, the gradients from the decoder remain meaningful to the encoder."
   ]
  },
  {
   "cell_type": "code",
   "execution_count": 3,
   "id": "bd3c2155",
   "metadata": {
    "execution": {
     "iopub.execute_input": "2023-12-17T15:39:57.338542Z",
     "iopub.status.busy": "2023-12-17T15:39:57.337897Z",
     "iopub.status.idle": "2023-12-17T15:39:57.349675Z",
     "shell.execute_reply": "2023-12-17T15:39:57.348697Z"
    },
    "id": "QNSfO_r8wMHj",
    "papermill": {
     "duration": 0.023236,
     "end_time": "2023-12-17T15:39:57.351765",
     "exception": false,
     "start_time": "2023-12-17T15:39:57.328529",
     "status": "completed"
    },
    "tags": []
   },
   "outputs": [],
   "source": [
    "\n",
    "class VectorQuantizer(layers.Layer):\n",
    "    def __init__(self, num_embeddings, embedding_dim, beta=0.25, **kwargs):\n",
    "        super().__init__(**kwargs)\n",
    "        self.embedding_dim = embedding_dim\n",
    "        self.num_embeddings = num_embeddings\n",
    "\n",
    "        # The `beta` parameter is best kept between [0.25, 2] as per the paper.\n",
    "        self.beta = beta\n",
    "\n",
    "        # Initialize the embeddings which we will quantize.\n",
    "        w_init = tf.random_uniform_initializer()\n",
    "        self.embeddings = tf.Variable(\n",
    "            initial_value=w_init(\n",
    "                shape=(self.embedding_dim, self.num_embeddings), dtype=\"float32\"\n",
    "            ),\n",
    "            trainable=True,\n",
    "            name=\"embeddings_vqvae\",\n",
    "        )\n",
    "\n",
    "    def call(self, x):\n",
    "        # Calculate the input shape of the inputs and\n",
    "        # then flatten the inputs keeping `embedding_dim` intact.\n",
    "        input_shape = tf.shape(x)\n",
    "        flattened = tf.reshape(x, [-1, self.embedding_dim])\n",
    "\n",
    "        # Quantization.\n",
    "        encoding_indices = self.get_code_indices(flattened)\n",
    "        encodings = tf.one_hot(encoding_indices, self.num_embeddings)\n",
    "        quantized = tf.matmul(encodings, self.embeddings, transpose_b=True)\n",
    "\n",
    "        # Reshape the quantized values back to the original input shape\n",
    "        quantized = tf.reshape(quantized, input_shape)\n",
    "\n",
    "        # Calculate vector quantization loss and add that to the layer. You can learn more\n",
    "        # about adding losses to different layers here:\n",
    "        # https://keras.io/guides/making_new_layers_and_models_via_subclassing/. Check\n",
    "        # the original paper to get a handle on the formulation of the loss function.\n",
    "        commitment_loss = tf.reduce_mean((tf.stop_gradient(quantized) - x) ** 2)\n",
    "        codebook_loss = tf.reduce_mean((quantized - tf.stop_gradient(x)) ** 2)\n",
    "        self.add_loss(self.beta * commitment_loss + codebook_loss)\n",
    "\n",
    "        # Straight-through estimator.\n",
    "        quantized = x + tf.stop_gradient(quantized - x)\n",
    "        return quantized\n",
    "\n",
    "    def get_code_indices(self, flattened_inputs):\n",
    "        # Calculate L2-normalized distance between the inputs and the codes.\n",
    "        similarity = tf.matmul(flattened_inputs, self.embeddings)\n",
    "        distances = (\n",
    "            tf.reduce_sum(flattened_inputs ** 2, axis=1, keepdims=True)\n",
    "            + tf.reduce_sum(self.embeddings ** 2, axis=0)\n",
    "            - 2 * similarity\n",
    "        )\n",
    "\n",
    "        # Derive the indices for minimum distances.\n",
    "        encoding_indices = tf.argmin(distances, axis=1)\n",
    "        return encoding_indices\n"
   ]
  },
  {
   "cell_type": "markdown",
   "id": "b7d26a31",
   "metadata": {
    "id": "MRu4H8FuwMHj",
    "papermill": {
     "duration": 0.007765,
     "end_time": "2023-12-17T15:39:57.368124",
     "exception": false,
     "start_time": "2023-12-17T15:39:57.360359",
     "status": "completed"
    },
    "tags": []
   },
   "source": [
    "**Straight Through Estimation**:\n",
    "\n",
    "The straight-through estimation is done by this line of code: `quantized = x + tf.stop_gradient(quantized - x)`. During backpropagation, `(quantized - x)` won't be included in the computation graph and the gradients obtained for `quantized` will be copied for `inputs`."
   ]
  },
  {
   "cell_type": "markdown",
   "id": "408aac5a",
   "metadata": {
    "id": "8EVkZsBMwMHk",
    "papermill": {
     "duration": 0.007649,
     "end_time": "2023-12-17T15:39:57.384188",
     "exception": false,
     "start_time": "2023-12-17T15:39:57.376539",
     "status": "completed"
    },
    "tags": []
   },
   "source": [
    "## Encoder and decoder\n",
    "\n",
    "To ensure compatibility with the MNIST dataset, the sizes of the encoder and the decoder are kept small.\n",
    "\n",
    "For the encoder and decoder layers in the quantization architecture, activations other than ReLU might be problematic. Layers activated with Leaky ReLU, for instance, have demonstrated challenges during training, leading to occasional spikes in loss that the model struggles to overcome."
   ]
  },
  {
   "cell_type": "code",
   "execution_count": 4,
   "id": "c9193519",
   "metadata": {
    "execution": {
     "iopub.execute_input": "2023-12-17T15:39:57.402082Z",
     "iopub.status.busy": "2023-12-17T15:39:57.401675Z",
     "iopub.status.idle": "2023-12-17T15:39:57.409229Z",
     "shell.execute_reply": "2023-12-17T15:39:57.408240Z"
    },
    "id": "0eNnstlYwMHk",
    "papermill": {
     "duration": 0.018989,
     "end_time": "2023-12-17T15:39:57.411268",
     "exception": false,
     "start_time": "2023-12-17T15:39:57.392279",
     "status": "completed"
    },
    "tags": []
   },
   "outputs": [],
   "source": [
    "\n",
    "def get_encoder(latent_dim=16):\n",
    "    encoder_inputs = keras.Input(shape=(28, 28, 1))\n",
    "    x = layers.Conv2D(32, 3, activation=\"relu\", strides=2, padding=\"same\")(\n",
    "        encoder_inputs\n",
    "    )\n",
    "    x = layers.Conv2D(64, 3, activation=\"relu\", strides=2, padding=\"same\")(x)\n",
    "    encoder_outputs = layers.Conv2D(latent_dim, 1, padding=\"same\")(x)\n",
    "    return keras.Model(encoder_inputs, encoder_outputs, name=\"encoder\")\n",
    "\n",
    "\n",
    "def get_decoder(latent_dim=16):\n",
    "    latent_inputs = keras.Input(shape=get_encoder(latent_dim).output.shape[1:])\n",
    "    x = layers.Conv2DTranspose(64, 3, activation=\"relu\", strides=2, padding=\"same\")(\n",
    "        latent_inputs\n",
    "    )\n",
    "    x = layers.Conv2DTranspose(32, 3, activation=\"relu\", strides=2, padding=\"same\")(x)\n",
    "    decoder_outputs = layers.Conv2DTranspose(1, 3, padding=\"same\")(x)\n",
    "    return keras.Model(latent_inputs, decoder_outputs, name=\"decoder\")\n"
   ]
  },
  {
   "cell_type": "markdown",
   "id": "e658fefd",
   "metadata": {
    "id": "2fP_N2j7wMHk",
    "papermill": {
     "duration": 0.007667,
     "end_time": "2023-12-17T15:39:57.427622",
     "exception": false,
     "start_time": "2023-12-17T15:39:57.419955",
     "status": "completed"
    },
    "tags": []
   },
   "source": [
    "## Standalone VQ-VAE model"
   ]
  },
  {
   "cell_type": "code",
   "execution_count": 5,
   "id": "41f86255",
   "metadata": {
    "execution": {
     "iopub.execute_input": "2023-12-17T15:39:57.456729Z",
     "iopub.status.busy": "2023-12-17T15:39:57.455933Z",
     "iopub.status.idle": "2023-12-17T15:39:58.024499Z",
     "shell.execute_reply": "2023-12-17T15:39:58.023452Z"
    },
    "id": "q1rLdHinwMHk",
    "papermill": {
     "duration": 0.584052,
     "end_time": "2023-12-17T15:39:58.030390",
     "exception": false,
     "start_time": "2023-12-17T15:39:57.446338",
     "status": "completed"
    },
    "tags": []
   },
   "outputs": [
    {
     "name": "stdout",
     "output_type": "stream",
     "text": [
      "Model: \"vq_vae\"\n",
      "_________________________________________________________________\n",
      " Layer (type)                Output Shape              Param #   \n",
      "=================================================================\n",
      " input_4 (InputLayer)        [(None, 28, 28, 1)]       0         \n",
      "                                                                 \n",
      " encoder (Functional)        (None, 7, 7, 16)          19856     \n",
      "                                                                 \n",
      " vector_quantizer (VectorQu  (None, 7, 7, 16)          1024      \n",
      " antizer)                                                        \n",
      "                                                                 \n",
      " decoder (Functional)        (None, 28, 28, 1)         28033     \n",
      "                                                                 \n",
      "=================================================================\n",
      "Total params: 48913 (191.07 KB)\n",
      "Trainable params: 48913 (191.07 KB)\n",
      "Non-trainable params: 0 (0.00 Byte)\n",
      "_________________________________________________________________\n"
     ]
    }
   ],
   "source": [
    "\n",
    "def get_vqvae(latent_dim=16, num_embeddings=64):\n",
    "    vq_layer = VectorQuantizer(num_embeddings, latent_dim, name=\"vector_quantizer\")\n",
    "    encoder = get_encoder(latent_dim)\n",
    "    decoder = get_decoder(latent_dim)\n",
    "    inputs = keras.Input(shape=(28, 28, 1))\n",
    "    encoder_outputs = encoder(inputs)\n",
    "    quantized_latents = vq_layer(encoder_outputs)\n",
    "    reconstructions = decoder(quantized_latents)\n",
    "    return keras.Model(inputs, reconstructions, name=\"vq_vae\")\n",
    "\n",
    "\n",
    "get_vqvae().summary()"
   ]
  },
  {
   "cell_type": "markdown",
   "id": "05a3b1c3",
   "metadata": {
    "id": "43WciCHewMHk",
    "papermill": {
     "duration": 0.008891,
     "end_time": "2023-12-17T15:39:58.048642",
     "exception": false,
     "start_time": "2023-12-17T15:39:58.039751",
     "status": "completed"
    },
    "tags": []
   },
   "source": [
    "The output channels of the encoder must match the `latent_dim` for the vector quantizer."
   ]
  },
  {
   "cell_type": "markdown",
   "id": "5bc208e1",
   "metadata": {
    "id": "ow71EtJYwMHl",
    "papermill": {
     "duration": 0.009187,
     "end_time": "2023-12-17T15:39:58.067264",
     "exception": false,
     "start_time": "2023-12-17T15:39:58.058077",
     "status": "completed"
    },
    "tags": []
   },
   "source": [
    "## Training loop inside `VQVAETrainer`"
   ]
  },
  {
   "cell_type": "code",
   "execution_count": 6,
   "id": "bafe5f24",
   "metadata": {
    "execution": {
     "iopub.execute_input": "2023-12-17T15:39:58.087535Z",
     "iopub.status.busy": "2023-12-17T15:39:58.087119Z",
     "iopub.status.idle": "2023-12-17T15:39:58.097649Z",
     "shell.execute_reply": "2023-12-17T15:39:58.096525Z"
    },
    "id": "g_zXUus2wMHl",
    "papermill": {
     "duration": 0.023088,
     "end_time": "2023-12-17T15:39:58.099742",
     "exception": false,
     "start_time": "2023-12-17T15:39:58.076654",
     "status": "completed"
    },
    "tags": []
   },
   "outputs": [],
   "source": [
    "\n",
    "class VQVAETrainer(keras.models.Model):\n",
    "    def __init__(self, train_variance, latent_dim=32, num_embeddings=128, **kwargs):\n",
    "        super().__init__(**kwargs)\n",
    "        self.train_variance = train_variance\n",
    "        self.latent_dim = latent_dim\n",
    "        self.num_embeddings = num_embeddings\n",
    "\n",
    "        self.vqvae = get_vqvae(self.latent_dim, self.num_embeddings)\n",
    "\n",
    "        self.total_loss_tracker = keras.metrics.Mean(name=\"total_loss\")\n",
    "        self.reconstruction_loss_tracker = keras.metrics.Mean(\n",
    "            name=\"reconstruction_loss\"\n",
    "        )\n",
    "        self.vq_loss_tracker = keras.metrics.Mean(name=\"vq_loss\")\n",
    "\n",
    "    @property\n",
    "    def metrics(self):\n",
    "        return [\n",
    "            self.total_loss_tracker,\n",
    "            self.reconstruction_loss_tracker,\n",
    "            self.vq_loss_tracker,\n",
    "        ]\n",
    "\n",
    "    def train_step(self, x):\n",
    "        with tf.GradientTape() as tape:\n",
    "            # Outputs from the VQ-VAE.\n",
    "            reconstructions = self.vqvae(x)\n",
    "\n",
    "            # Calculate the losses.\n",
    "            reconstruction_loss = (\n",
    "                tf.reduce_mean((x - reconstructions) ** 2) / self.train_variance\n",
    "            )\n",
    "            total_loss = reconstruction_loss + sum(self.vqvae.losses)\n",
    "\n",
    "        # Backpropagation.\n",
    "        grads = tape.gradient(total_loss, self.vqvae.trainable_variables)\n",
    "        self.optimizer.apply_gradients(zip(grads, self.vqvae.trainable_variables))\n",
    "\n",
    "        # Loss tracking.\n",
    "        self.total_loss_tracker.update_state(total_loss)\n",
    "        self.reconstruction_loss_tracker.update_state(reconstruction_loss)\n",
    "        self.vq_loss_tracker.update_state(sum(self.vqvae.losses))\n",
    "\n",
    "        # Log results.\n",
    "        return {\n",
    "            \"loss\": self.total_loss_tracker.result(),\n",
    "            \"reconstruction_loss\": self.reconstruction_loss_tracker.result(),\n",
    "            \"vqvae_loss\": self.vq_loss_tracker.result(),\n",
    "        }\n"
   ]
  },
  {
   "cell_type": "markdown",
   "id": "523ca4b3",
   "metadata": {
    "id": "beGfdjy3wMHl",
    "papermill": {
     "duration": 0.00882,
     "end_time": "2023-12-17T15:39:58.117835",
     "exception": false,
     "start_time": "2023-12-17T15:39:58.109015",
     "status": "completed"
    },
    "tags": []
   },
   "source": [
    "## Loading and preprocessing the MNIST dataset"
   ]
  },
  {
   "cell_type": "code",
   "execution_count": 7,
   "id": "2ca6d416",
   "metadata": {
    "execution": {
     "iopub.execute_input": "2023-12-17T15:39:58.138127Z",
     "iopub.status.busy": "2023-12-17T15:39:58.137769Z",
     "iopub.status.idle": "2023-12-17T15:39:59.277955Z",
     "shell.execute_reply": "2023-12-17T15:39:59.276820Z"
    },
    "id": "78-fAmdQwMHl",
    "papermill": {
     "duration": 1.153391,
     "end_time": "2023-12-17T15:39:59.280653",
     "exception": false,
     "start_time": "2023-12-17T15:39:58.127262",
     "status": "completed"
    },
    "tags": []
   },
   "outputs": [
    {
     "name": "stdout",
     "output_type": "stream",
     "text": [
      "Downloading data from https://storage.googleapis.com/tensorflow/tf-keras-datasets/mnist.npz\n",
      "11490434/11490434 [==============================] - 0s 0us/step\n"
     ]
    }
   ],
   "source": [
    "(x_train, _), (x_test, _) = keras.datasets.mnist.load_data()\n",
    "\n",
    "x_train = np.expand_dims(x_train, -1)\n",
    "x_test = np.expand_dims(x_test, -1)\n",
    "x_train_scaled = (x_train / 255.0) - 0.5\n",
    "x_test_scaled = (x_test / 255.0) - 0.5\n",
    "\n",
    "data_variance = np.var(x_train / 255.0)"
   ]
  },
  {
   "cell_type": "markdown",
   "id": "4a0f6a4f",
   "metadata": {
    "id": "96KTSQ6LwMHm",
    "papermill": {
     "duration": 0.009345,
     "end_time": "2023-12-17T15:39:59.300256",
     "exception": false,
     "start_time": "2023-12-17T15:39:59.290911",
     "status": "completed"
    },
    "tags": []
   },
   "source": [
    "## Training the VQ-VAE model"
   ]
  },
  {
   "cell_type": "code",
   "execution_count": 8,
   "id": "4130b82d",
   "metadata": {
    "execution": {
     "iopub.execute_input": "2023-12-17T15:39:59.322151Z",
     "iopub.status.busy": "2023-12-17T15:39:59.321756Z",
     "iopub.status.idle": "2023-12-17T15:57:05.836485Z",
     "shell.execute_reply": "2023-12-17T15:57:05.835313Z"
    },
    "id": "w16abpVYwMHm",
    "papermill": {
     "duration": 1026.528243,
     "end_time": "2023-12-17T15:57:05.838809",
     "exception": false,
     "start_time": "2023-12-17T15:39:59.310566",
     "status": "completed"
    },
    "tags": []
   },
   "outputs": [
    {
     "name": "stdout",
     "output_type": "stream",
     "text": [
      "Epoch 1/30\n",
      "469/469 [==============================] - 36s 73ms/step - loss: 2.2000 - reconstruction_loss: 0.3488 - vqvae_loss: 1.5232\n",
      "Epoch 2/30\n",
      "469/469 [==============================] - 34s 73ms/step - loss: 2.3435 - reconstruction_loss: 0.1488 - vqvae_loss: 2.1850\n",
      "Epoch 3/30\n",
      "469/469 [==============================] - 34s 72ms/step - loss: 1.0313 - reconstruction_loss: 0.1233 - vqvae_loss: 0.9012\n",
      "Epoch 4/30\n",
      "469/469 [==============================] - 34s 72ms/step - loss: 0.5982 - reconstruction_loss: 0.1025 - vqvae_loss: 0.4913\n",
      "Epoch 5/30\n",
      "469/469 [==============================] - 34s 72ms/step - loss: 0.4447 - reconstruction_loss: 0.0911 - vqvae_loss: 0.3515\n",
      "Epoch 6/30\n",
      "469/469 [==============================] - 34s 72ms/step - loss: 0.3823 - reconstruction_loss: 0.0846 - vqvae_loss: 0.2961\n",
      "Epoch 7/30\n",
      "469/469 [==============================] - 34s 72ms/step - loss: 0.3494 - reconstruction_loss: 0.0792 - vqvae_loss: 0.2689\n",
      "Epoch 8/30\n",
      "469/469 [==============================] - 34s 72ms/step - loss: 0.3174 - reconstruction_loss: 0.0741 - vqvae_loss: 0.2423\n",
      "Epoch 9/30\n",
      "469/469 [==============================] - 34s 72ms/step - loss: 0.3027 - reconstruction_loss: 0.0696 - vqvae_loss: 0.2318\n",
      "Epoch 10/30\n",
      "469/469 [==============================] - 34s 72ms/step - loss: 0.2847 - reconstruction_loss: 0.0653 - vqvae_loss: 0.2185\n",
      "Epoch 11/30\n",
      "469/469 [==============================] - 34s 73ms/step - loss: 0.2735 - reconstruction_loss: 0.0625 - vqvae_loss: 0.2105\n",
      "Epoch 12/30\n",
      "469/469 [==============================] - 34s 72ms/step - loss: 0.2648 - reconstruction_loss: 0.0599 - vqvae_loss: 0.2041\n",
      "Epoch 13/30\n",
      "469/469 [==============================] - 34s 73ms/step - loss: 0.2535 - reconstruction_loss: 0.0577 - vqvae_loss: 0.1954\n",
      "Epoch 14/30\n",
      "469/469 [==============================] - 34s 72ms/step - loss: 0.2504 - reconstruction_loss: 0.0559 - vqvae_loss: 0.1940\n",
      "Epoch 15/30\n",
      "469/469 [==============================] - 34s 72ms/step - loss: 0.2452 - reconstruction_loss: 0.0544 - vqvae_loss: 0.1906\n",
      "Epoch 16/30\n",
      "469/469 [==============================] - 34s 72ms/step - loss: 0.2401 - reconstruction_loss: 0.0528 - vqvae_loss: 0.1869\n",
      "Epoch 17/30\n",
      "469/469 [==============================] - 34s 73ms/step - loss: 0.2349 - reconstruction_loss: 0.0519 - vqvae_loss: 0.1828\n",
      "Epoch 18/30\n",
      "469/469 [==============================] - 34s 73ms/step - loss: 0.2323 - reconstruction_loss: 0.0510 - vqvae_loss: 0.1811\n",
      "Epoch 19/30\n",
      "469/469 [==============================] - 34s 73ms/step - loss: 0.2298 - reconstruction_loss: 0.0503 - vqvae_loss: 0.1794\n",
      "Epoch 20/30\n",
      "469/469 [==============================] - 34s 73ms/step - loss: 0.2278 - reconstruction_loss: 0.0494 - vqvae_loss: 0.1780\n",
      "Epoch 21/30\n",
      "469/469 [==============================] - 34s 73ms/step - loss: 0.2241 - reconstruction_loss: 0.0487 - vqvae_loss: 0.1753\n",
      "Epoch 22/30\n",
      "469/469 [==============================] - 34s 73ms/step - loss: 0.2210 - reconstruction_loss: 0.0482 - vqvae_loss: 0.1728\n",
      "Epoch 23/30\n",
      "469/469 [==============================] - 34s 73ms/step - loss: 0.2191 - reconstruction_loss: 0.0477 - vqvae_loss: 0.1713\n",
      "Epoch 24/30\n",
      "469/469 [==============================] - 34s 74ms/step - loss: 0.2167 - reconstruction_loss: 0.0472 - vqvae_loss: 0.1696\n",
      "Epoch 25/30\n",
      "469/469 [==============================] - 34s 73ms/step - loss: 0.2152 - reconstruction_loss: 0.0468 - vqvae_loss: 0.1683\n",
      "Epoch 26/30\n",
      "469/469 [==============================] - 34s 73ms/step - loss: 0.2127 - reconstruction_loss: 0.0462 - vqvae_loss: 0.1665\n",
      "Epoch 27/30\n",
      "469/469 [==============================] - 35s 74ms/step - loss: 0.2111 - reconstruction_loss: 0.0457 - vqvae_loss: 0.1653\n",
      "Epoch 28/30\n",
      "469/469 [==============================] - 34s 73ms/step - loss: 0.2091 - reconstruction_loss: 0.0452 - vqvae_loss: 0.1638\n",
      "Epoch 29/30\n",
      "469/469 [==============================] - 34s 73ms/step - loss: 0.2074 - reconstruction_loss: 0.0448 - vqvae_loss: 0.1625\n",
      "Epoch 30/30\n",
      "469/469 [==============================] - 34s 73ms/step - loss: 0.2061 - reconstruction_loss: 0.0445 - vqvae_loss: 0.1616\n"
     ]
    },
    {
     "data": {
      "text/plain": [
       "<keras.src.callbacks.History at 0x7fdd04b88850>"
      ]
     },
     "execution_count": 8,
     "metadata": {},
     "output_type": "execute_result"
    }
   ],
   "source": [
    "vqvae_trainer = VQVAETrainer(data_variance, latent_dim=16, num_embeddings=128)\n",
    "vqvae_trainer.compile(optimizer=keras.optimizers.Adam())\n",
    "vqvae_trainer.fit(x_train_scaled, epochs=30, batch_size=128)"
   ]
  },
  {
   "cell_type": "markdown",
   "id": "13a5ae1e",
   "metadata": {
    "id": "W6Okb_fdwMHm",
    "papermill": {
     "duration": 0.94882,
     "end_time": "2023-12-17T15:57:07.831574",
     "exception": false,
     "start_time": "2023-12-17T15:57:06.882754",
     "status": "completed"
    },
    "tags": []
   },
   "source": [
    "## Reconstruction results on the test set"
   ]
  },
  {
   "cell_type": "code",
   "execution_count": 9,
   "id": "4c63dde5",
   "metadata": {
    "execution": {
     "iopub.execute_input": "2023-12-17T15:57:09.777014Z",
     "iopub.status.busy": "2023-12-17T15:57:09.776605Z",
     "iopub.status.idle": "2023-12-17T15:57:12.359263Z",
     "shell.execute_reply": "2023-12-17T15:57:12.358265Z"
    },
    "id": "FAtYUgl8wMHm",
    "papermill": {
     "duration": 3.5222,
     "end_time": "2023-12-17T15:57:12.361935",
     "exception": false,
     "start_time": "2023-12-17T15:57:08.839735",
     "status": "completed"
    },
    "tags": []
   },
   "outputs": [
    {
     "name": "stdout",
     "output_type": "stream",
     "text": [
      "1/1 [==============================] - 0s 197ms/step\n"
     ]
    },
    {
     "data": {
      "image/png": "[encoded data removed]",
      "text/plain": [
       "<Figure size 640x480 with 2 Axes>"
      ]
     },
     "metadata": {},
     "output_type": "display_data"
    },
    {
     "data": {
      "image/png": "[encoded data removed]",
      "text/plain": [
       "<Figure size 640x480 with 2 Axes>"
      ]
     },
     "metadata": {},
     "output_type": "display_data"
    },
    {
     "data": {
      "image/png": "[encoded data removed]",
      "text/plain": [
       "<Figure size 640x480 with 2 Axes>"
      ]
     },
     "metadata": {},
     "output_type": "display_data"
    },
    {
     "data": {
      "image/png": "[encoded data removed]",
      "text/plain": [
       "<Figure size 640x480 with 2 Axes>"
      ]
     },
     "metadata": {},
     "output_type": "display_data"
    },
    {
     "data": {
      "image/png": "[encoded data removed]",
      "text/plain": [
       "<Figure size 640x480 with 2 Axes>"
      ]
     },
     "metadata": {},
     "output_type": "display_data"
    },
    {
     "data": {
      "image/png": "[encoded data removed]",
      "text/plain": [
       "<Figure size 640x480 with 2 Axes>"
      ]
     },
     "metadata": {},
     "output_type": "display_data"
    },
    {
     "data": {
      "image/png": "[encoded data removed]",
      "text/plain": [
       "<Figure size 640x480 with 2 Axes>"
      ]
     },
     "metadata": {},
     "output_type": "display_data"
    },
    {
     "data": {
      "image/png": "[encoded data removed]",
      "text/plain": [
       "<Figure size 640x480 with 2 Axes>"
      ]
     },
     "metadata": {},
     "output_type": "display_data"
    },
    {
     "data": {
      "image/png": "[encoded data removed]",
      "text/plain": [
       "<Figure size 640x480 with 2 Axes>"
      ]
     },
     "metadata": {},
     "output_type": "display_data"
    },
    {
     "data": {
      "image/png": "[encoded data removed]",
      "text/plain": [
       "<Figure size 640x480 with 2 Axes>"
      ]
     },
     "metadata": {},
     "output_type": "display_data"
    }
   ],
   "source": [
    "\n",
    "def show_subplot(original, reconstructed):\n",
    "    plt.subplot(1, 2, 1)\n",
    "    plt.imshow(original.squeeze() + 0.5)\n",
    "    plt.title(\"Original\")\n",
    "    plt.axis(\"off\")\n",
    "\n",
    "    plt.subplot(1, 2, 2)\n",
    "    plt.imshow(reconstructed.squeeze() + 0.5)\n",
    "    plt.title(\"Reconstructed\")\n",
    "    plt.axis(\"off\")\n",
    "\n",
    "    plt.show()\n",
    "\n",
    "\n",
    "trained_vqvae_model = vqvae_trainer.vqvae\n",
    "idx = np.random.choice(len(x_test_scaled), 10)\n",
    "test_images = x_test_scaled[idx]\n",
    "reconstructions_test = trained_vqvae_model.predict(test_images)\n",
    "\n",
    "for test_image, reconstructed_image in zip(test_images, reconstructions_test):\n",
    "    show_subplot(test_image, reconstructed_image)"
   ]
  },
  {
   "cell_type": "markdown",
   "id": "0516c9fa",
   "metadata": {
    "papermill": {
     "duration": 0.944665,
     "end_time": "2023-12-17T15:57:14.319980",
     "exception": false,
     "start_time": "2023-12-17T15:57:13.375315",
     "status": "completed"
    },
    "tags": []
   },
   "source": [
    "The number of embeddings and the dimensions of the embeddings can be tuned as hyperparameters and the difference in results can be observed."
   ]
  },
  {
   "cell_type": "markdown",
   "id": "45ceaae5",
   "metadata": {
    "id": "W3swHOhRwMHn",
    "papermill": {
     "duration": 1.037377,
     "end_time": "2023-12-17T15:57:16.364719",
     "exception": false,
     "start_time": "2023-12-17T15:57:15.327342",
     "status": "completed"
    },
    "tags": []
   },
   "source": [
    "## Plotting the codebook "
   ]
  },
  {
   "cell_type": "code",
   "execution_count": 10,
   "id": "70d11213",
   "metadata": {
    "execution": {
     "iopub.execute_input": "2023-12-17T15:57:18.313679Z",
     "iopub.status.busy": "2023-12-17T15:57:18.312643Z",
     "iopub.status.idle": "2023-12-17T15:57:20.512083Z",
     "shell.execute_reply": "2023-12-17T15:57:20.511022Z"
    },
    "id": "6B4_Y89TwMHn",
    "papermill": {
     "duration": 3.215176,
     "end_time": "2023-12-17T15:57:20.514378",
     "exception": false,
     "start_time": "2023-12-17T15:57:17.299202",
     "status": "completed"
    },
    "tags": []
   },
   "outputs": [
    {
     "name": "stdout",
     "output_type": "stream",
     "text": [
      "1/1 [==============================] - 0s 62ms/step\n"
     ]
    },
    {
     "data": {
      "image/png": "[encoded data removed]",
      "text/plain": [
       "<Figure size 640x480 with 2 Axes>"
      ]
     },
     "metadata": {},
     "output_type": "display_data"
    },
    {
     "data": {
      "image/png": "[encoded data removed]",
      "text/plain": [
       "<Figure size 640x480 with 2 Axes>"
      ]
     },
     "metadata": {},
     "output_type": "display_data"
    },
    {
     "data": {
      "image/png": "[encoded data removed]",
      "text/plain": [
       "<Figure size 640x480 with 2 Axes>"
      ]
     },
     "metadata": {},
     "output_type": "display_data"
    },
    {
     "data": {
      "image/png": "[encoded data removed]",
      "text/plain": [
       "<Figure size 640x480 with 2 Axes>"
      ]
     },
     "metadata": {},
     "output_type": "display_data"
    },
    {
     "data": {
      "image/png": "[encoded data removed]",
      "text/plain": [
       "<Figure size 640x480 with 2 Axes>"
      ]
     },
     "metadata": {},
     "output_type": "display_data"
    },
    {
     "data": {
      "image/png": "[encoded data removed]",
      "text/plain": [
       "<Figure size 640x480 with 2 Axes>"
      ]
     },
     "metadata": {},
     "output_type": "display_data"
    },
    {
     "data": {
      "image/png": "[encoded data removed]",
      "text/plain": [
       "<Figure size 640x480 with 2 Axes>"
      ]
     },
     "metadata": {},
     "output_type": "display_data"
    },
    {
     "data": {
      "image/png": "[encoded data removed]",
      "text/plain": [
       "<Figure size 640x480 with 2 Axes>"
      ]
     },
     "metadata": {},
     "output_type": "display_data"
    },
    {
     "data": {
      "image/png": "[encoded data removed]",
      "text/plain": [
       "<Figure size 640x480 with 2 Axes>"
      ]
     },
     "metadata": {},
     "output_type": "display_data"
    },
    {
     "data": {
      "image/png": "[encoded data removed]",
      "text/plain": [
       "<Figure size 640x480 with 2 Axes>"
      ]
     },
     "metadata": {},
     "output_type": "display_data"
    }
   ],
   "source": [
    "encoder = vqvae_trainer.vqvae.get_layer(\"encoder\")\n",
    "quantizer = vqvae_trainer.vqvae.get_layer(\"vector_quantizer\")\n",
    "\n",
    "encoded_outputs = encoder.predict(test_images)\n",
    "flat_enc_outputs = encoded_outputs.reshape(-1, encoded_outputs.shape[-1])\n",
    "codebook_indices = quantizer.get_code_indices(flat_enc_outputs)\n",
    "codebook_indices = codebook_indices.numpy().reshape(encoded_outputs.shape[:-1])\n",
    "\n",
    "for i in range(len(test_images)):\n",
    "    plt.subplot(1, 2, 1)\n",
    "    plt.imshow(test_images[i].squeeze() + 0.5)\n",
    "    plt.title(\"Original\")\n",
    "    plt.axis(\"off\")\n",
    "\n",
    "    plt.subplot(1, 2, 2)\n",
    "    plt.imshow(codebook_indices[i])\n",
    "    plt.title(\"Code\")\n",
    "    plt.axis(\"off\")\n",
    "    plt.show()"
   ]
  },
  {
   "cell_type": "markdown",
   "id": "c99d4271",
   "metadata": {
    "id": "K-36I4A2wMHn",
    "papermill": {
     "duration": 1.02671,
     "end_time": "2023-12-17T15:57:22.506176",
     "exception": false,
     "start_time": "2023-12-17T15:57:21.479466",
     "status": "completed"
    },
    "tags": []
   },
   "source": [
    "The plot presented above illustrates that the discrete codes effectively capture certain patterns within the dataset. Now, the question arises: how do we extract samples from this codebook to generate new images? Given the discrete nature of these codes and the imposition of a categorical distribution, direct generation of meaningful content is not feasible. To achieve this, we need to generate probable sequences of codes that can be fed into the decoder.\n",
    "\n",
    "To address this challenge, we employ a PixelCNN to train these codes, transforming them into potent priors for generating novel examples. PixelCNN functions as an autoregressive generative model, where outputs depend on prior ones. It generates an image pixel by pixel. However, in this specific scenario, its role is to produce codebook indices rather than pixels directly. The trained VQ-VAE decoder is then employed to map the indices generated by the PixelCNN back into the pixel space."
   ]
  },
  {
   "cell_type": "markdown",
   "id": "ad7c0baf",
   "metadata": {
    "id": "5Lrv4_KUwMHn",
    "papermill": {
     "duration": 1.006965,
     "end_time": "2023-12-17T15:57:24.460410",
     "exception": false,
     "start_time": "2023-12-17T15:57:23.453445",
     "status": "completed"
    },
    "tags": []
   },
   "source": [
    "## PixelCNN hyperparameters"
   ]
  },
  {
   "cell_type": "code",
   "execution_count": 11,
   "id": "e45c07a2",
   "metadata": {
    "execution": {
     "iopub.execute_input": "2023-12-17T15:57:26.452477Z",
     "iopub.status.busy": "2023-12-17T15:57:26.451822Z",
     "iopub.status.idle": "2023-12-17T15:57:26.457506Z",
     "shell.execute_reply": "2023-12-17T15:57:26.456287Z"
    },
    "id": "Zp777w7iwMHn",
    "papermill": {
     "duration": 0.970106,
     "end_time": "2023-12-17T15:57:26.459789",
     "exception": false,
     "start_time": "2023-12-17T15:57:25.489683",
     "status": "completed"
    },
    "tags": []
   },
   "outputs": [
    {
     "name": "stdout",
     "output_type": "stream",
     "text": [
      "Input shape of the PixelCNN: (7, 7)\n"
     ]
    }
   ],
   "source": [
    "num_residual_blocks = 2\n",
    "num_pixelcnn_layers = 2\n",
    "pixelcnn_input_shape = encoded_outputs.shape[1:-1]\n",
    "print(f\"Input shape of the PixelCNN: {pixelcnn_input_shape}\")"
   ]
  },
  {
   "cell_type": "markdown",
   "id": "b391cce4",
   "metadata": {
    "id": "_hCgZnlxwMHo",
    "papermill": {
     "duration": 0.932301,
     "end_time": "2023-12-17T15:57:28.404932",
     "exception": false,
     "start_time": "2023-12-17T15:57:27.472631",
     "status": "completed"
    },
    "tags": []
   },
   "source": [
    "This input shape signifies the reduction in resolution carried out by the encoder. Employing \"same\" padding ensures an exact halving of the \"resolution\" for each stride-2 convolution layer in the output shape. Consequently, with these two layers, the resulting encoder output tensor becomes 7x7 along axes 2 and 3, where the first axis denotes the batch size, and the last axis represents the codebook embedding size. Given that the quantization layer maps these 7x7 tensors to codebook indices, the PixelCNN must align its input shape with these output layer axis sizes. The primary role of the PixelCNN in this architecture is to generate probable 7x7 arrangements of codebook indices.\n",
    "\n",
    "This shape is a critical consideration in larger image domains, alongside the codebook sizes. Since PixelCNN operates in an autoregressive manner, it sequentially processes each codebook index to generate new images. Each stride-2 (or more accurately, stride (2, 2)) convolution layer divides the time required for image generation by four. However, there exists a potential lower limit: if the number of codes for reconstructing the image is too small, the decoder lacks sufficient information to represent the image's level of detail, resulting in diminished output quality. This limitation can be mitigated to some extent by employing a larger codebook. As the autoregressive process relies on codebook indices, the performance impact of using a larger codebook is less significant, considering the quicker lookup time for a larger-sized code compared to iterating over a larger sequence of codebook indices. Nevertheless, the codebook size does affect the batch size that can traverse the image generation process. Determining the optimal balance for this trade-off may necessitate adjustments to the architecture and could vary across different datasets."
   ]
  },
  {
   "cell_type": "markdown",
   "id": "a32b9965",
   "metadata": {
    "id": "NWdFooc1wMHo",
    "papermill": {
     "duration": 0.938453,
     "end_time": "2023-12-17T15:57:30.351481",
     "exception": false,
     "start_time": "2023-12-17T15:57:29.413028",
     "status": "completed"
    },
    "tags": []
   },
   "source": [
    "## PixelCNN model\n"
   ]
  },
  {
   "cell_type": "code",
   "execution_count": 12,
   "id": "6a66720a",
   "metadata": {
    "execution": {
     "iopub.execute_input": "2023-12-17T15:57:32.292923Z",
     "iopub.status.busy": "2023-12-17T15:57:32.292101Z",
     "iopub.status.idle": "2023-12-17T15:57:32.597328Z",
     "shell.execute_reply": "2023-12-17T15:57:32.596289Z"
    },
    "id": "S1fJsHXwwMHo",
    "papermill": {
     "duration": 1.245682,
     "end_time": "2023-12-17T15:57:32.604460",
     "exception": false,
     "start_time": "2023-12-17T15:57:31.358778",
     "status": "completed"
    },
    "tags": []
   },
   "outputs": [
    {
     "name": "stdout",
     "output_type": "stream",
     "text": [
      "Model: \"pixel_cnn\"\n",
      "_________________________________________________________________\n",
      " Layer (type)                Output Shape              Param #   \n",
      "=================================================================\n",
      " input_9 (InputLayer)        [(None, 7, 7)]            0         \n",
      "                                                                 \n",
      " tf.one_hot (TFOpLambda)     (None, 7, 7, 128)         0         \n",
      "                                                                 \n",
      " pixel_conv_layer (PixelCon  (None, 7, 7, 128)         802944    \n",
      " vLayer)                                                         \n",
      "                                                                 \n",
      " residual_block (ResidualBl  (None, 7, 7, 128)         98624     \n",
      " ock)                                                            \n",
      "                                                                 \n",
      " residual_block_1 (Residual  (None, 7, 7, 128)         98624     \n",
      " Block)                                                          \n",
      "                                                                 \n",
      " pixel_conv_layer_3 (PixelC  (None, 7, 7, 128)         16512     \n",
      " onvLayer)                                                       \n",
      "                                                                 \n",
      " pixel_conv_layer_4 (PixelC  (None, 7, 7, 128)         16512     \n",
      " onvLayer)                                                       \n",
      "                                                                 \n",
      " conv2d_21 (Conv2D)          (None, 7, 7, 128)         16512     \n",
      "                                                                 \n",
      "=================================================================\n",
      "Total params: 1049728 (4.00 MB)\n",
      "Trainable params: 1049728 (4.00 MB)\n",
      "Non-trainable params: 0 (0.00 Byte)\n",
      "_________________________________________________________________\n"
     ]
    }
   ],
   "source": [
    "# The first layer is the PixelCNN layer. This layer simply\n",
    "# builds on the 2D convolutional layer, but includes masking.\n",
    "class PixelConvLayer(layers.Layer):\n",
    "    def __init__(self, mask_type, **kwargs):\n",
    "        super().__init__()\n",
    "        self.mask_type = mask_type\n",
    "        self.conv = layers.Conv2D(**kwargs)\n",
    "\n",
    "    def build(self, input_shape):\n",
    "        # Build the conv2d layer to initialize kernel variables\n",
    "        self.conv.build(input_shape)\n",
    "        # Use the initialized kernel to create the mask\n",
    "        kernel_shape = self.conv.kernel.get_shape()\n",
    "        self.mask = np.zeros(shape=kernel_shape)\n",
    "        self.mask[: kernel_shape[0] // 2, ...] = 1.0\n",
    "        self.mask[kernel_shape[0] // 2, : kernel_shape[1] // 2, ...] = 1.0\n",
    "        if self.mask_type == \"B\":\n",
    "            self.mask[kernel_shape[0] // 2, kernel_shape[1] // 2, ...] = 1.0\n",
    "\n",
    "    def call(self, inputs):\n",
    "        self.conv.kernel.assign(self.conv.kernel * self.mask)\n",
    "        return self.conv(inputs)\n",
    "\n",
    "\n",
    "# Next, we build our residual block layer.\n",
    "# This is just a normal residual block, but based on the PixelConvLayer.\n",
    "class ResidualBlock(keras.layers.Layer):\n",
    "    def __init__(self, filters, **kwargs):\n",
    "        super().__init__(**kwargs)\n",
    "        self.conv1 = keras.layers.Conv2D(\n",
    "            filters=filters, kernel_size=1, activation=\"relu\"\n",
    "        )\n",
    "        self.pixel_conv = PixelConvLayer(\n",
    "            mask_type=\"B\",\n",
    "            filters=filters // 2,\n",
    "            kernel_size=3,\n",
    "            activation=\"relu\",\n",
    "            padding=\"same\",\n",
    "        )\n",
    "        self.conv2 = keras.layers.Conv2D(\n",
    "            filters=filters, kernel_size=1, activation=\"relu\"\n",
    "        )\n",
    "\n",
    "    def call(self, inputs):\n",
    "        x = self.conv1(inputs)\n",
    "        x = self.pixel_conv(x)\n",
    "        x = self.conv2(x)\n",
    "        return keras.layers.add([inputs, x])\n",
    "\n",
    "\n",
    "pixelcnn_inputs = keras.Input(shape=pixelcnn_input_shape, dtype=tf.int32)\n",
    "ohe = tf.one_hot(pixelcnn_inputs, vqvae_trainer.num_embeddings)\n",
    "x = PixelConvLayer(\n",
    "    mask_type=\"A\", filters=128, kernel_size=7, activation=\"relu\", padding=\"same\"\n",
    ")(ohe)\n",
    "\n",
    "for _ in range(num_residual_blocks):\n",
    "    x = ResidualBlock(filters=128)(x)\n",
    "\n",
    "for _ in range(num_pixelcnn_layers):\n",
    "    x = PixelConvLayer(\n",
    "        mask_type=\"B\",\n",
    "        filters=128,\n",
    "        kernel_size=1,\n",
    "        strides=1,\n",
    "        activation=\"relu\",\n",
    "        padding=\"valid\",\n",
    "    )(x)\n",
    "\n",
    "out = keras.layers.Conv2D(\n",
    "    filters=vqvae_trainer.num_embeddings, kernel_size=1, strides=1, padding=\"valid\"\n",
    ")(x)\n",
    "\n",
    "pixel_cnn = keras.Model(pixelcnn_inputs, out, name=\"pixel_cnn\")\n",
    "pixel_cnn.summary()"
   ]
  },
  {
   "cell_type": "markdown",
   "id": "54cc81d5",
   "metadata": {
    "id": "HVq6SBoKwMHo",
    "papermill": {
     "duration": 0.93314,
     "end_time": "2023-12-17T15:57:34.557357",
     "exception": false,
     "start_time": "2023-12-17T15:57:33.624217",
     "status": "completed"
    },
    "tags": []
   },
   "source": [
    "## Prepare data to train the PixelCNN\n",
    "\n",
    "The training process for the PixelCNN involves learning a categorical distribution for the discrete codes. Initially, we generate code indices using the recently trained encoder and vector quantizer. The objective during training is to minimize the cross-entropy loss between these indices and the PixelCNN outputs. In this context, the number of categories corresponds to the embeddings in our codebook (in our case, 128). Notably, the PixelCNN model is designed to learn a distribution, deviating from the goal of minimizing L1/L2 loss. It is this learned distribution that endows the PixelCNN with its generative capabilities."
   ]
  },
  {
   "cell_type": "code",
   "execution_count": 13,
   "id": "f1ade1a3",
   "metadata": {
    "execution": {
     "iopub.execute_input": "2023-12-17T15:57:36.531239Z",
     "iopub.status.busy": "2023-12-17T15:57:36.530832Z",
     "iopub.status.idle": "2023-12-17T15:57:46.700968Z",
     "shell.execute_reply": "2023-12-17T15:57:46.699668Z"
    },
    "id": "A-Xj61YRwMHo",
    "papermill": {
     "duration": 11.136654,
     "end_time": "2023-12-17T15:57:46.703465",
     "exception": false,
     "start_time": "2023-12-17T15:57:35.566811",
     "status": "completed"
    },
    "tags": []
   },
   "outputs": [
    {
     "name": "stdout",
     "output_type": "stream",
     "text": [
      "1875/1875 [==============================] - 5s 3ms/step\n",
      "Shape of the training data for PixelCNN: (60000, 7, 7)\n"
     ]
    }
   ],
   "source": [
    "# Generate the codebook indices.\n",
    "encoded_outputs = encoder.predict(x_train_scaled)\n",
    "flat_enc_outputs = encoded_outputs.reshape(-1, encoded_outputs.shape[-1])\n",
    "codebook_indices = quantizer.get_code_indices(flat_enc_outputs)\n",
    "\n",
    "codebook_indices = codebook_indices.numpy().reshape(encoded_outputs.shape[:-1])\n",
    "print(f\"Shape of the training data for PixelCNN: {codebook_indices.shape}\")"
   ]
  },
  {
   "cell_type": "markdown",
   "id": "168918e2",
   "metadata": {
    "id": "zCQ-frXqwMHp",
    "papermill": {
     "duration": 1.015671,
     "end_time": "2023-12-17T15:57:48.734675",
     "exception": false,
     "start_time": "2023-12-17T15:57:47.719004",
     "status": "completed"
    },
    "tags": []
   },
   "source": [
    "## PixelCNN training"
   ]
  },
  {
   "cell_type": "code",
   "execution_count": 14,
   "id": "aa3d1b93",
   "metadata": {
    "execution": {
     "iopub.execute_input": "2023-12-17T15:57:50.685868Z",
     "iopub.status.busy": "2023-12-17T15:57:50.685157Z",
     "iopub.status.idle": "2023-12-17T17:06:14.860659Z",
     "shell.execute_reply": "2023-12-17T17:06:14.859140Z"
    },
    "id": "bW0D7HAgwMHp",
    "papermill": {
     "duration": 4107.947859,
     "end_time": "2023-12-17T17:06:17.616922",
     "exception": false,
     "start_time": "2023-12-17T15:57:49.669063",
     "status": "completed"
    },
    "tags": []
   },
   "outputs": [
    {
     "name": "stdout",
     "output_type": "stream",
     "text": [
      "Epoch 1/30\n",
      "844/844 [==============================] - 137s 160ms/step - loss: 1.5628 - accuracy: 0.6105 - val_loss: 1.1910 - val_accuracy: 0.6569\n",
      "Epoch 2/30\n",
      "844/844 [==============================] - 135s 159ms/step - loss: 1.1373 - accuracy: 0.6652 - val_loss: 1.1092 - val_accuracy: 0.6703\n",
      "Epoch 3/30\n",
      "844/844 [==============================] - 134s 158ms/step - loss: 1.0826 - accuracy: 0.6751 - val_loss: 1.0783 - val_accuracy: 0.6755\n",
      "Epoch 4/30\n",
      "844/844 [==============================] - 133s 158ms/step - loss: 1.0530 - accuracy: 0.6805 - val_loss: 1.0586 - val_accuracy: 0.6788\n",
      "Epoch 5/30\n",
      "844/844 [==============================] - 137s 163ms/step - loss: 1.0336 - accuracy: 0.6843 - val_loss: 1.0476 - val_accuracy: 0.6812\n",
      "Epoch 6/30\n",
      "844/844 [==============================] - 135s 160ms/step - loss: 1.0195 - accuracy: 0.6871 - val_loss: 1.0444 - val_accuracy: 0.6808\n",
      "Epoch 7/30\n",
      "844/844 [==============================] - 134s 158ms/step - loss: 1.0082 - accuracy: 0.6895 - val_loss: 1.0357 - val_accuracy: 0.6830\n",
      "Epoch 8/30\n",
      "844/844 [==============================] - 134s 159ms/step - loss: 0.9989 - accuracy: 0.6914 - val_loss: 1.0331 - val_accuracy: 0.6832\n",
      "Epoch 9/30\n",
      "844/844 [==============================] - 134s 159ms/step - loss: 0.9911 - accuracy: 0.6929 - val_loss: 1.0274 - val_accuracy: 0.6847\n",
      "Epoch 10/30\n",
      "844/844 [==============================] - 134s 159ms/step - loss: 0.9844 - accuracy: 0.6945 - val_loss: 1.0255 - val_accuracy: 0.6851\n",
      "Epoch 11/30\n",
      "844/844 [==============================] - 134s 159ms/step - loss: 0.9785 - accuracy: 0.6959 - val_loss: 1.0230 - val_accuracy: 0.6858\n",
      "Epoch 12/30\n",
      "844/844 [==============================] - 135s 160ms/step - loss: 0.9739 - accuracy: 0.6969 - val_loss: 1.0211 - val_accuracy: 0.6857\n",
      "Epoch 13/30\n",
      "844/844 [==============================] - 136s 161ms/step - loss: 0.9687 - accuracy: 0.6981 - val_loss: 1.0198 - val_accuracy: 0.6865\n",
      "Epoch 14/30\n",
      "844/844 [==============================] - 136s 161ms/step - loss: 0.9648 - accuracy: 0.6989 - val_loss: 1.0188 - val_accuracy: 0.6873\n",
      "Epoch 15/30\n",
      "844/844 [==============================] - 136s 161ms/step - loss: 0.9607 - accuracy: 0.6996 - val_loss: 1.0168 - val_accuracy: 0.6872\n",
      "Epoch 16/30\n",
      "844/844 [==============================] - 136s 162ms/step - loss: 0.9573 - accuracy: 0.7006 - val_loss: 1.0184 - val_accuracy: 0.6868\n",
      "Epoch 17/30\n",
      "844/844 [==============================] - 137s 162ms/step - loss: 0.9536 - accuracy: 0.7015 - val_loss: 1.0170 - val_accuracy: 0.6869\n",
      "Epoch 18/30\n",
      "844/844 [==============================] - 137s 162ms/step - loss: 0.9509 - accuracy: 0.7019 - val_loss: 1.0179 - val_accuracy: 0.6872\n",
      "Epoch 19/30\n",
      "844/844 [==============================] - 136s 162ms/step - loss: 0.9476 - accuracy: 0.7028 - val_loss: 1.0175 - val_accuracy: 0.6868\n",
      "Epoch 20/30\n",
      "844/844 [==============================] - 137s 162ms/step - loss: 0.9449 - accuracy: 0.7034 - val_loss: 1.0161 - val_accuracy: 0.6876\n",
      "Epoch 21/30\n",
      "844/844 [==============================] - 137s 162ms/step - loss: 0.9423 - accuracy: 0.7040 - val_loss: 1.0174 - val_accuracy: 0.6877\n",
      "Epoch 22/30\n",
      "844/844 [==============================] - 136s 161ms/step - loss: 0.9398 - accuracy: 0.7046 - val_loss: 1.0181 - val_accuracy: 0.6873\n",
      "Epoch 23/30\n",
      "844/844 [==============================] - 137s 162ms/step - loss: 0.9376 - accuracy: 0.7049 - val_loss: 1.0180 - val_accuracy: 0.6866\n",
      "Epoch 24/30\n",
      "844/844 [==============================] - 137s 163ms/step - loss: 0.9350 - accuracy: 0.7056 - val_loss: 1.0176 - val_accuracy: 0.6872\n",
      "Epoch 25/30\n",
      "844/844 [==============================] - 137s 162ms/step - loss: 0.9331 - accuracy: 0.7062 - val_loss: 1.0211 - val_accuracy: 0.6862\n",
      "Epoch 26/30\n",
      "844/844 [==============================] - 137s 162ms/step - loss: 0.9313 - accuracy: 0.7065 - val_loss: 1.0211 - val_accuracy: 0.6873\n",
      "Epoch 27/30\n",
      "844/844 [==============================] - 138s 164ms/step - loss: 0.9291 - accuracy: 0.7070 - val_loss: 1.0258 - val_accuracy: 0.6869\n",
      "Epoch 28/30\n",
      "844/844 [==============================] - 137s 163ms/step - loss: 0.9276 - accuracy: 0.7073 - val_loss: 1.0209 - val_accuracy: 0.6872\n",
      "Epoch 29/30\n",
      "844/844 [==============================] - 138s 164ms/step - loss: 0.9254 - accuracy: 0.7081 - val_loss: 1.0211 - val_accuracy: 0.6874\n",
      "Epoch 30/30\n",
      "844/844 [==============================] - 138s 164ms/step - loss: 0.9233 - accuracy: 0.7084 - val_loss: 1.0215 - val_accuracy: 0.6871\n"
     ]
    },
    {
     "data": {
      "text/plain": [
       "<keras.src.callbacks.History at 0x7fdcb9bbfc10>"
      ]
     },
     "execution_count": 14,
     "metadata": {},
     "output_type": "execute_result"
    }
   ],
   "source": [
    "pixel_cnn.compile(\n",
    "    optimizer=keras.optimizers.Adam(3e-4),\n",
    "    loss=keras.losses.SparseCategoricalCrossentropy(from_logits=True),\n",
    "    metrics=[\"accuracy\"],\n",
    ")\n",
    "pixel_cnn.fit(\n",
    "    x=codebook_indices,\n",
    "    y=codebook_indices,\n",
    "    batch_size=64,\n",
    "    epochs=30,\n",
    "    validation_split=0.1,\n",
    ")"
   ]
  },
  {
   "cell_type": "markdown",
   "id": "7f6e7628",
   "metadata": {
    "id": "eKOsuCDYwMHp",
    "papermill": {
     "duration": 2.727848,
     "end_time": "2023-12-17T17:06:23.154491",
     "exception": false,
     "start_time": "2023-12-17T17:06:20.426643",
     "status": "completed"
    },
    "tags": []
   },
   "source": [
    "We can improve these scores with more training and hyperparameter tuning."
   ]
  },
  {
   "cell_type": "markdown",
   "id": "0592ac05",
   "metadata": {
    "id": "ylU4y7nJwMHq",
    "papermill": {
     "duration": 2.855807,
     "end_time": "2023-12-17T17:06:28.740543",
     "exception": false,
     "start_time": "2023-12-17T17:06:25.884736",
     "status": "completed"
    },
    "tags": []
   },
   "source": [
    "## Codebook sampling\n",
    "\n",
    "Now that our PixelCNN is trained, we can sample distinct codes from its outputs and pass\n",
    "them to our decoder to generate novel images."
   ]
  },
  {
   "cell_type": "code",
   "execution_count": 15,
   "id": "4f52b697",
   "metadata": {
    "execution": {
     "iopub.execute_input": "2023-12-17T17:06:34.179520Z",
     "iopub.status.busy": "2023-12-17T17:06:34.179074Z",
     "iopub.status.idle": "2023-12-17T17:06:34.337352Z",
     "shell.execute_reply": "2023-12-17T17:06:34.336119Z"
    },
    "id": "OdiNYbziwMHq",
    "papermill": {
     "duration": 2.881987,
     "end_time": "2023-12-17T17:06:34.340098",
     "exception": false,
     "start_time": "2023-12-17T17:06:31.458111",
     "status": "completed"
    },
    "tags": []
   },
   "outputs": [],
   "source": [
    "# Create a mini sampler model.\n",
    "inputs = layers.Input(shape=pixel_cnn.input_shape[1:])\n",
    "outputs = pixel_cnn(inputs, training=False)\n",
    "categorical_layer = tfp.layers.DistributionLambda(tfp.distributions.Categorical)\n",
    "outputs = categorical_layer(outputs)\n",
    "sampler = keras.Model(inputs, outputs)"
   ]
  },
  {
   "cell_type": "markdown",
   "id": "4ccc6722",
   "metadata": {
    "id": "_g6lXCq7wMHq",
    "papermill": {
     "duration": 2.722802,
     "end_time": "2023-12-17T17:06:39.808245",
     "exception": false,
     "start_time": "2023-12-17T17:06:37.085443",
     "status": "completed"
    },
    "tags": []
   },
   "source": [
    "We now construct a prior to generate images. Here, we generate 10 images."
   ]
  },
  {
   "cell_type": "code",
   "execution_count": 16,
   "id": "3af3ac5e",
   "metadata": {
    "execution": {
     "iopub.execute_input": "2023-12-17T17:06:45.229337Z",
     "iopub.status.busy": "2023-12-17T17:06:45.228090Z",
     "iopub.status.idle": "2023-12-17T17:06:49.476468Z",
     "shell.execute_reply": "2023-12-17T17:06:49.475373Z"
    },
    "id": "LDdvl4AdwMHq",
    "papermill": {
     "duration": 6.969244,
     "end_time": "2023-12-17T17:06:49.478578",
     "exception": false,
     "start_time": "2023-12-17T17:06:42.509334",
     "status": "completed"
    },
    "tags": []
   },
   "outputs": [
    {
     "name": "stdout",
     "output_type": "stream",
     "text": [
      "1/1 [==============================] - 0s 309ms/step\n",
      "1/1 [==============================] - 0s 35ms/step\n",
      "1/1 [==============================] - 0s 44ms/step\n",
      "1/1 [==============================] - 0s 33ms/step\n",
      "1/1 [==============================] - 0s 40ms/step\n",
      "1/1 [==============================] - 0s 44ms/step\n",
      "1/1 [==============================] - 0s 33ms/step\n",
      "1/1 [==============================] - 0s 33ms/step\n",
      "1/1 [==============================] - 0s 38ms/step\n",
      "1/1 [==============================] - 0s 36ms/step\n",
      "1/1 [==============================] - 0s 33ms/step\n",
      "1/1 [==============================] - 0s 35ms/step\n",
      "1/1 [==============================] - 0s 46ms/step\n",
      "1/1 [==============================] - 0s 35ms/step\n",
      "1/1 [==============================] - 0s 34ms/step\n",
      "1/1 [==============================] - 0s 34ms/step\n",
      "1/1 [==============================] - 0s 32ms/step\n",
      "1/1 [==============================] - 0s 34ms/step\n",
      "1/1 [==============================] - 0s 33ms/step\n",
      "1/1 [==============================] - 0s 32ms/step\n",
      "1/1 [==============================] - 0s 33ms/step\n",
      "1/1 [==============================] - 0s 41ms/step\n",
      "1/1 [==============================] - 0s 34ms/step\n",
      "1/1 [==============================] - 0s 34ms/step\n",
      "1/1 [==============================] - 0s 34ms/step\n",
      "1/1 [==============================] - 0s 32ms/step\n",
      "1/1 [==============================] - 0s 31ms/step\n",
      "1/1 [==============================] - 0s 34ms/step\n",
      "1/1 [==============================] - 0s 41ms/step\n",
      "1/1 [==============================] - 0s 32ms/step\n",
      "1/1 [==============================] - 0s 33ms/step\n",
      "1/1 [==============================] - 0s 31ms/step\n",
      "1/1 [==============================] - 0s 32ms/step\n",
      "1/1 [==============================] - 0s 35ms/step\n",
      "1/1 [==============================] - 0s 32ms/step\n",
      "1/1 [==============================] - 0s 31ms/step\n",
      "1/1 [==============================] - 0s 32ms/step\n",
      "1/1 [==============================] - 0s 34ms/step\n",
      "1/1 [==============================] - 0s 34ms/step\n",
      "1/1 [==============================] - 0s 33ms/step\n",
      "1/1 [==============================] - 0s 31ms/step\n",
      "1/1 [==============================] - 0s 32ms/step\n",
      "1/1 [==============================] - 0s 31ms/step\n",
      "1/1 [==============================] - 0s 34ms/step\n",
      "1/1 [==============================] - 0s 31ms/step\n",
      "1/1 [==============================] - 0s 31ms/step\n",
      "1/1 [==============================] - 0s 33ms/step\n",
      "1/1 [==============================] - 0s 31ms/step\n",
      "1/1 [==============================] - 0s 30ms/step\n",
      "Prior shape: (10, 7, 7)\n"
     ]
    }
   ],
   "source": [
    "# Create an empty array of priors.\n",
    "batch = 10\n",
    "priors = np.zeros(shape=(batch,) + (pixel_cnn.input_shape)[1:])\n",
    "batch, rows, cols = priors.shape\n",
    "\n",
    "# Iterate over the priors because generation has to be done sequentially pixel by pixel.\n",
    "for row in range(rows):\n",
    "    for col in range(cols):\n",
    "        # Feed the whole array and retrieving the pixel value probabilities for the next\n",
    "        # pixel.\n",
    "        probs = sampler.predict(priors)\n",
    "        # Use the probabilities to pick pixel values and append the values to the priors.\n",
    "        priors[:, row, col] = probs[:, row, col]\n",
    "\n",
    "print(f\"Prior shape: {priors.shape}\")"
   ]
  },
  {
   "cell_type": "markdown",
   "id": "2a1eeeb3",
   "metadata": {
    "id": "OE_zmwTkwMHr",
    "papermill": {
     "duration": 2.721987,
     "end_time": "2023-12-17T17:06:55.070404",
     "exception": false,
     "start_time": "2023-12-17T17:06:52.348417",
     "status": "completed"
    },
    "tags": []
   },
   "source": [
    "We can now use our decoder to generate the images."
   ]
  },
  {
   "cell_type": "code",
   "execution_count": 17,
   "id": "fdcf1c79",
   "metadata": {
    "execution": {
     "iopub.execute_input": "2023-12-17T17:07:00.537711Z",
     "iopub.status.busy": "2023-12-17T17:07:00.537023Z",
     "iopub.status.idle": "2023-12-17T17:07:03.140965Z",
     "shell.execute_reply": "2023-12-17T17:07:03.139834Z"
    },
    "id": "pDLbB2tMwMHr",
    "papermill": {
     "duration": 5.321205,
     "end_time": "2023-12-17T17:07:03.143156",
     "exception": false,
     "start_time": "2023-12-17T17:06:57.821951",
     "status": "completed"
    },
    "tags": []
   },
   "outputs": [
    {
     "name": "stdout",
     "output_type": "stream",
     "text": [
      "1/1 [==============================] - 0s 97ms/step\n"
     ]
    },
    {
     "data": {
      "image/png": "[encoded data removed]",
      "text/plain": [
       "<Figure size 640x480 with 2 Axes>"
      ]
     },
     "metadata": {},
     "output_type": "display_data"
    },
    {
     "data": {
      "image/png": "[encoded data removed]",
      "text/plain": [
       "<Figure size 640x480 with 2 Axes>"
      ]
     },
     "metadata": {},
     "output_type": "display_data"
    },
    {
     "data": {
      "image/png": "[encoded data removed]",
      "text/plain": [
       "<Figure size 640x480 with 2 Axes>"
      ]
     },
     "metadata": {},
     "output_type": "display_data"
    },
    {
     "data": {
      "image/png": "[encoded data removed]",
      "text/plain": [
       "<Figure size 640x480 with 2 Axes>"
      ]
     },
     "metadata": {},
     "output_type": "display_data"
    },
    {
     "data": {
      "image/png": "[encoded data removed]",
      "text/plain": [
       "<Figure size 640x480 with 2 Axes>"
      ]
     },
     "metadata": {},
     "output_type": "display_data"
    },
    {
     "data": {
      "image/png": "[encoded data removed]",
      "text/plain": [
       "<Figure size 640x480 with 2 Axes>"
      ]
     },
     "metadata": {},
     "output_type": "display_data"
    },
    {
     "data": {
      "image/png": "[encoded data removed]",
      "text/plain": [
       "<Figure size 640x480 with 2 Axes>"
      ]
     },
     "metadata": {},
     "output_type": "display_data"
    },
    {
     "data": {
      "image/png": "[encoded data removed]",
      "text/plain": [
       "<Figure size 640x480 with 2 Axes>"
      ]
     },
     "metadata": {},
     "output_type": "display_data"
    },
    {
     "data": {
      "image/png": "[encoded data removed]",
      "text/plain": [
       "<Figure size 640x480 with 2 Axes>"
      ]
     },
     "metadata": {},
     "output_type": "display_data"
    },
    {
     "data": {
      "image/png": "[encoded data removed]",
      "text/plain": [
       "<Figure size 640x480 with 2 Axes>"
      ]
     },
     "metadata": {},
     "output_type": "display_data"
    }
   ],
   "source": [
    "# Perform an embedding lookup.\n",
    "pretrained_embeddings = quantizer.embeddings\n",
    "priors_ohe = tf.one_hot(priors.astype(\"int32\"), vqvae_trainer.num_embeddings).numpy()\n",
    "quantized = tf.matmul(\n",
    "    priors_ohe.astype(\"float32\"), pretrained_embeddings, transpose_b=True\n",
    ")\n",
    "quantized = tf.reshape(quantized, (-1, *(encoded_outputs.shape[1:])))\n",
    "\n",
    "# Generate novel images.\n",
    "decoder = vqvae_trainer.vqvae.get_layer(\"decoder\")\n",
    "generated_samples = decoder.predict(quantized)\n",
    "\n",
    "for i in range(batch):\n",
    "    plt.subplot(1, 2, 1)\n",
    "    plt.imshow(priors[i])\n",
    "    plt.title(\"Code\")\n",
    "    plt.axis(\"off\")\n",
    "\n",
    "    plt.subplot(1, 2, 2)\n",
    "    plt.imshow(generated_samples[i].squeeze() + 0.5)\n",
    "    plt.title(\"Generated Sample\")\n",
    "    plt.axis(\"off\")\n",
    "    plt.show()"
   ]
  },
  {
   "cell_type": "markdown",
   "id": "84dd7d0c",
   "metadata": {
    "id": "6eX97oudwMHs",
    "papermill": {
     "duration": 2.735657,
     "end_time": "2023-12-17T17:07:08.623108",
     "exception": false,
     "start_time": "2023-12-17T17:07:05.887451",
     "status": "completed"
    },
    "tags": []
   },
   "source": [
    "We can enhance the quality of these generated samples by tweaking the PixelCNN model."
   ]
  }
 ],
 "metadata": {
  "accelerator": "GPU",
  "colab": {
   "name": "vq_vae",
   "provenance": [],
   "toc_visible": true
  },
  "kaggle": {
   "accelerator": "none",
   "dataSources": [],
   "dockerImageVersionId": 30626,
   "isGpuEnabled": false,
   "isInternetEnabled": true,
   "language": "python",
   "sourceType": "notebook"
  },
  "kernelspec": {
   "display_name": "Python 3",
   "language": "python",
   "name": "python3"
  },
  "language_info": {
   "codemirror_mode": {
    "name": "ipython",
    "version": 3
   },
   "file_extension": ".py",
   "mimetype": "text/x-python",
   "name": "python",
   "nbconvert_exporter": "python",
   "pygments_lexer": "ipython3",
   "version": "3.10.12"
  },
  "papermill": {
   "default_parameters": {},
   "duration": 5267.062051,
   "end_time": "2023-12-17T17:07:14.136316",
   "environment_variables": {},
   "exception": null,
   "input_path": "__notebook__.ipynb",
   "output_path": "__notebook__.ipynb",
   "parameters": {},
   "start_time": "2023-12-17T15:39:27.074265",
   "version": "2.4.0"
  }
 },
 "nbformat": 4,
 "nbformat_minor": 5
}
